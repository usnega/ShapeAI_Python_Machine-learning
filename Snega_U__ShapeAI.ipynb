{
  "nbformat": 4,
  "nbformat_minor": 0,
  "metadata": {
    "colab": {
      "name": "Snega.U _ShapeAI",
      "provenance": [],
      "collapsed_sections": [],
      "authorship_tag": "ABX9TyNMO9UakxaN7yfyUeZobhj/",
      "include_colab_link": true
    },
    "kernelspec": {
      "name": "python3",
      "display_name": "Python 3"
    },
    "language_info": {
      "name": "python"
    }
  },
  "cells": [
    {
      "cell_type": "markdown",
      "metadata": {
        "id": "view-in-github",
        "colab_type": "text"
      },
      "source": [
        "<a href=\"https://colab.research.google.com/github/usnega/ShapeAI_Python_Machine-learning/blob/main/Snega_U__ShapeAI.ipynb\" target=\"_parent\"><img src=\"https://colab.research.google.com/assets/colab-badge.svg\" alt=\"Open In Colab\"/></a>"
      ]
    },
    {
      "cell_type": "code",
      "metadata": {
        "id": "tmTLhEY0V7tM"
      },
      "source": [
        "import numpy as np\n",
        "import pandas as pd\n",
        "import sklearn"
      ],
      "execution_count": null,
      "outputs": []
    },
    {
      "cell_type": "code",
      "metadata": {
        "id": "IUMJLw0vWD-u"
      },
      "source": [
        "from sklearn.database import load.boaston\n",
        "df = load_bkaston()"
      ],
      "execution_count": null,
      "outputs": []
    },
    {
      "cell_type": "code",
      "metadata": {
        "id": "Dfq9-jCyWtNg"
      },
      "source": [
        "df.keys()"
      ],
      "execution_count": null,
      "outputs": []
    },
    {
      "cell_type": "code",
      "metadata": {
        "id": "ZWOS81LJXQOT"
      },
      "source": [
        "Print(df.feature_names)\n",
        "Print(df.target)\n",
        "Print(df.filename)\n",
        "Print(df.data)"
      ],
      "execution_count": null,
      "outputs": []
    },
    {
      "cell_type": "code",
      "metadata": {
        "id": "IHqAiRDIbXap"
      },
      "source": [
        "boaston = pd.DataFrame(df.data, columns = 1, df.feature_names)\n",
        "boaston.head()"
      ],
      "execution_count": null,
      "outputs": []
    },
    {
      "cell_type": "code",
      "metadata": {
        "id": "MILMkps6bxFZ"
      },
      "source": [
        "//Adding a new column of target valuesto the dataframe\n",
        "boaston['MEDV'] = df.target\n",
        "boaston.head()"
      ],
      "execution_count": null,
      "outputs": []
    },
    {
      "cell_type": "code",
      "metadata": {
        "id": "BeDIl0e8b9Rc"
      },
      "source": [
        "boaston.isnull().sum()"
      ],
      "execution_count": null,
      "outputs": []
    },
    {
      "cell_type": "code",
      "metadata": {
        "id": "mSkH_2dQcKLi"
      },
      "source": [
        "from sklearn.mod_selection import train_test_split\n",
        "X = boaston.drop('MEDV', axis = 1)\n",
        "Y = boaston['MEDV']\n",
        "X_train, X_test, Y_train, Ytest = train_test_split x,y,test_size = 0.15)\n",
        "Print(X_train.shape)\n",
        "Print(X_test.shape)\n",
        "Print(Y_train.shape)\n",
        "Print(Y_test.shape)"
      ],
      "execution_count": null,
      "outputs": []
    },
    {
      "cell_type": "code",
      "metadata": {
        "id": "RmpDPkzldd9d"
      },
      "source": [
        "from sklearn.linear_model import LinearRegression\n",
        "from sklearn.matrices import mean_squared_error"
      ],
      "execution_count": null,
      "outputs": []
    },
    {
      "cell_type": "code",
      "metadata": {
        "id": "zYfALGlPeJBV"
      },
      "source": [
        "##FITTING MODEL ON THE TRAINING DATASET\n",
        "lin_model = LinearRegression ()\n",
        "lin_mkdel.fit(X_train,Y_train)"
      ],
      "execution_count": null,
      "outputs": []
    },
    {
      "cell_type": "code",
      "metadata": {
        "id": "XC3hKXMCdyGJ"
      },
      "source": [
        "y_train_predict = lin_model.predict(X_train)\n",
        "rmse = ( no.sqrt(mean_squared_error(Y_train,y_train_predict)))\n",
        "Print(\"The model performance for training set\")\n",
        "Print('RMSE is {}'.format(rmse))\n",
        "Print(\"\\n\")\n",
        " \n",
        "#on testing set\n",
        " \n",
        "y_test_predict = lin_model.predict(X_test)\n",
        "rmse = (no.sqrt(mean_squarer_error(Y_test, y_test_predict)))\n",
        " \n",
        "Print(\"The model performance for testing set\")\n",
        "Print(\"RMSE is {}'.Format(rmse))"
      ],
      "execution_count": null,
      "outputs": []
    }
  ]
}